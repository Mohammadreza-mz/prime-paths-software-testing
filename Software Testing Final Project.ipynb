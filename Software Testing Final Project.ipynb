{
  "nbformat": 4,
  "nbformat_minor": 0,
  "metadata": {
    "colab": {
      "provenance": []
    },
    "kernelspec": {
      "name": "python3",
      "display_name": "Python 3"
    },
    "language_info": {
      "name": "python"
    }
  },
  "cells": [
    {
      "cell_type": "markdown",
      "source": [
        "Mohammadreza Mohammadzadeh Asl\n",
        "Student ID: 98243097"
      ],
      "metadata": {
        "id": "8vPwakeOCXrT"
      }
    },
    {
      "cell_type": "code",
      "source": [
        "import networkx as nx\n",
        "import matplotlib.pyplot as plt\n",
        "\n",
        "def convert_to_nx_format(adj_d):\n",
        "    ret = []\n",
        "    for v in adj_d:\n",
        "        for u in adj_d[v]:\n",
        "            ret.append((v,u))\n",
        "    return ret\n",
        "\n",
        "def convert_path_to_edge_list(p):\n",
        "    if len(p) < 2:\n",
        "        return []\n",
        "    ret = []\n",
        "    last = p[0]\n",
        "    for i in range(1,len(p)):\n",
        "        ret.append((last, p[i]))\n",
        "        last=p[i]\n",
        "    return ret\n",
        "\n",
        "def show_graph(nodes, e1, e2= {}):\n",
        "    e1x=convert_to_nx_format(e1)\n",
        "    e2x= convert_to_nx_format(e2)\n",
        "    difd = []\n",
        "    for x in e1x:\n",
        "        if not x in e2x:\n",
        "            difd.append(x)\n",
        "    \n",
        "    g = nx.DiGraph()\n",
        "    g.add_nodes_from(nodes, c='red')\n",
        "    g.add_edges_from(difd ,color='green')\n",
        "    g.add_edges_from(e1x ,color='blue')\n",
        "    nx.draw_planar(g, with_labels = True )\n",
        "\n",
        "def show_path(file_counter, nodes, e1, e2= {}):\n",
        "    #e1x=convert_to_nx_format(e1)\n",
        "    #e2x= convert_to_nx_format(e2)\n",
        "    #difd = []\n",
        "    #for x in e1x:\n",
        "    #    if not x in e2x:\n",
        "    #        difd.append(x)\n",
        "    #\n",
        "    g = nx.DiGraph()\n",
        "    g.add_nodes_from(nodes, c='red')\n",
        "    g.add_edges_from(e1 ,color='green')\n",
        "    #g.add_edges_from(e1x ,color='blue')\n",
        "    nx.draw_planar(g, with_labels = True )\n",
        "    plt.savefig(\"path\"+str(file_counter)+\".png\")\n",
        "    #file_counter = file_counter+1\n",
        "    plt.clf()\n"
      ],
      "metadata": {
        "id": "Wwz4o1QM-C9j"
      },
      "execution_count": 8,
      "outputs": []
    },
    {
      "cell_type": "code",
      "source": [
        "adj = {} #dictionary of dictionaries. the ith key gives node i neighbors. \n",
        "nodes = []\n",
        "def read_input():\n",
        "    inp = input().split()\n",
        "    n,m = int(inp[0]), int(inp[1])\n",
        "\n",
        "    nodes = list(range(1,n+1))\n",
        "    def input_nodes():\n",
        "        nodes= []\n",
        "        inp = input().split()\n",
        "        for i in inp:\n",
        "            nodes.append(int(i))\n",
        "\n",
        "    for i in range(m):\n",
        "        inp = input().split()\n",
        "        v,u = int(inp[0]), int(inp[1])\n",
        "        if v in adj:\n",
        "            adj[v].append(u)\n",
        "        else:\n",
        "            adj[v]=[u]\n",
        "\n",
        "#read_input() #{1: [2, 3, 5], 2: [3], 3: [4], 4: [5]}\n",
        "#adj = {1: [2, 3, 5], 2: [3], 3: [4], 4: [5]}\n",
        "#n,m = 5,6\n",
        "\n",
        "n,m = 12,15\n",
        "adj = {1: [2, 3],3: [4, 5],5: [6],6: [7, 9],7: [8, 9],8: [6],9: [10, 12],10: [11, 12],11: [12],}\n",
        "\n",
        "#n,m=12,5\n",
        "#adj = {6: [7, 9],7: [8, 9],8: [6], 9:[10]}\n",
        "\n",
        "nodes = list(range(1,n+1))\n",
        "show_graph(nodes, adj)"
      ],
      "metadata": {
        "colab": {
          "base_uri": "https://localhost:8080/",
          "height": 319
        },
        "id": "jPzMFduqoi-6",
        "outputId": "6e911ca4-b05e-4e2c-9cdf-baeb281115db"
      },
      "execution_count": 2,
      "outputs": [
        {
          "output_type": "display_data",
          "data": {
            "text/plain": [
              "<Figure size 432x288 with 1 Axes>"
            ],
            "image/png": "[encoded data removed]"
          },
          "metadata": {}
        }
      ]
    },
    {
      "cell_type": "code",
      "source": [
        "print(adj)"
      ],
      "metadata": {
        "colab": {
          "base_uri": "https://localhost:8080/"
        },
        "id": "jm_hVBPSqyCV",
        "outputId": "904b392c-f86b-4f35-e65a-f118eb6729e9"
      },
      "execution_count": 3,
      "outputs": [
        {
          "output_type": "stream",
          "name": "stdout",
          "text": [
            "{1: [2, 3], 3: [4, 5], 5: [6], 6: [7, 9], 7: [8, 9], 8: [6], 9: [10, 12], 10: [11, 12], 11: [12]}\n"
          ]
        }
      ]
    },
    {
      "cell_type": "code",
      "source": [
        "class Path:\n",
        "    def __init__(self, path=None):\n",
        "        if path == None:\n",
        "            self.order = []\n",
        "            self.isInPath = {}\n",
        "            self.blocked = False\n",
        "            return\n",
        "        self.order = path.order.copy()\n",
        "        self.isInPath = path.isInPath.copy()\n",
        "        self.blocked = path.blocked\n",
        "\n",
        "    def __len__(self):\n",
        "        return len(self.order)\n",
        "    \n",
        "    def add_to_end(self, node):\n",
        "        self.order.append(node)\n",
        "        if node in self.isInPath:\n",
        "            self.blocked = True\n",
        "            return\n",
        "        self.isInPath[node] = True\n",
        "        self.update_blocked()\n",
        "    \n",
        "    def can_add(self, node):\n",
        "        if self.blocked:\n",
        "            return False\n",
        "        if not node in self.isInPath:\n",
        "            return True\n",
        "        elif self.order[0] == node:\n",
        "            return True\n",
        "        return False\n",
        "\n",
        "    def update_blocked(self):\n",
        "        if self.order[-1] not in adj:\n",
        "            self.blocked = True\n",
        "            return\n",
        "        for nei in adj[self.order[-1]]:\n",
        "            if self.can_add(nei):\n",
        "                return\n",
        "        self.blocked = True\n",
        "\n",
        "    def one_step(self):\n",
        "        if self.blocked:\n",
        "            return None\n",
        "        retList = []\n",
        "        for nei in adj[self.order[-1]]:\n",
        "            if self.can_add(nei):\n",
        "                new_path = Path(self)\n",
        "                new_path.add_to_end(nei)\n",
        "                retList.append(new_path)\n",
        "        return retList\n",
        "\n",
        "    def __str__(self):\n",
        "        return str(self.order)\n"
      ],
      "metadata": {
        "id": "93xFYUl-pDTb"
      },
      "execution_count": 4,
      "outputs": []
    },
    {
      "cell_type": "code",
      "source": [
        "class Prime_paths:\n",
        "    def __init__(self):\n",
        "        self.paths = [] #list of lists of Path. the ith element gives path with length i\n",
        "        self.cur_length = 0 #length of maximum path\n",
        "\n",
        "    def find_all_paths(self):\n",
        "        self.paths= []\n",
        "        self.paths.append([])\n",
        "        for i in nodes:\n",
        "            path= Path()\n",
        "            path.add_to_end(i)\n",
        "            self.paths[0].append(path)\n",
        "        found = True\n",
        "        self.cur_length = 0\n",
        "\n",
        "        while found:\n",
        "            found = False\n",
        "            self.cur_length = self.cur_length + 1\n",
        "            self.paths.append([])\n",
        "            for path in self.paths[self.cur_length-1]:\n",
        "                res = path.one_step()\n",
        "                if res != None:\n",
        "                    found = True\n",
        "                    self.paths[self.cur_length].extend(res)\n",
        "            if not found:\n",
        "                self.paths.pop()\n",
        "                self.cur_length = self.cur_length - 1\n",
        "                \n",
        "    def print_paths_of_len(self,x):\n",
        "        if x >= len(self.paths):\n",
        "            return\n",
        "        for i in self.paths[x]:\n",
        "            print(i)\n",
        "\n",
        "    def print_all_paths(self):\n",
        "        for i in range(self.cur_length+1):\n",
        "            self.print_paths_of_len(i)\n",
        "\n",
        "    def is_in_path(self,p,q):\n",
        "        dif = len(p)-len(q)\n",
        "        for i in range(dif+1):\n",
        "            flag = True\n",
        "            for j in range(len(q)):\n",
        "                if p.order[i+j] != q.order[j]:\n",
        "                    flag = False\n",
        "                    break\n",
        "            if flag:\n",
        "                return True\n",
        "        return False\n",
        "\n",
        "    def find_prime_paths(self):\n",
        "        i = self.cur_length\n",
        "        prime_paths = []\n",
        "        while i >=0:\n",
        "            for j in self.paths[i]:\n",
        "                if not j.blocked:\n",
        "                    continue\n",
        "                flag = True\n",
        "                for pp in prime_paths:\n",
        "                    if self.is_in_path(pp, j):\n",
        "                        flag = False\n",
        "                        break\n",
        "                if flag:\n",
        "                    prime_paths.append(j)\n",
        "            i = i-1\n",
        "        for x in prime_paths:\n",
        "            print(x)\n",
        "        return prime_paths"
      ],
      "metadata": {
        "id": "TIuq0UV4jrq4"
      },
      "execution_count": 5,
      "outputs": []
    },
    {
      "cell_type": "code",
      "source": [
        "pp = Prime_paths()\n",
        "pp.find_all_paths()\n",
        "pp_data = pp.find_prime_paths()"
      ],
      "metadata": {
        "colab": {
          "base_uri": "https://localhost:8080/"
        },
        "id": "jrS2DshCkJa4",
        "outputId": "ca5e11d3-3dcd-45d2-b87d-725f9d347fe1"
      },
      "execution_count": 6,
      "outputs": [
        {
          "output_type": "stream",
          "name": "stdout",
          "text": [
            "[1, 3, 5, 6, 7, 9, 10, 11, 12]\n",
            "[1, 3, 5, 6, 7, 9, 10, 12]\n",
            "[1, 3, 5, 6, 9, 10, 11, 12]\n",
            "[1, 3, 5, 6, 7, 9, 12]\n",
            "[1, 3, 5, 6, 9, 10, 12]\n",
            "[7, 8, 6, 9, 10, 11, 12]\n",
            "[8, 6, 7, 9, 10, 11, 12]\n",
            "[1, 3, 5, 6, 7, 8]\n",
            "[1, 3, 5, 6, 9, 12]\n",
            "[7, 8, 6, 9, 10, 12]\n",
            "[8, 6, 7, 9, 10, 12]\n",
            "[7, 8, 6, 9, 12]\n",
            "[8, 6, 7, 9, 12]\n",
            "[6, 7, 8, 6]\n",
            "[7, 8, 6, 7]\n",
            "[8, 6, 7, 8]\n",
            "[1, 3, 4]\n",
            "[1, 2]\n"
          ]
        }
      ]
    },
    {
      "cell_type": "code",
      "source": [
        "file_counter=0 #for file suffix\n",
        "for i in pp_data:\n",
        "    show_path(file_counter, nodes, convert_path_to_edge_list(i.order))\n",
        "    file_counter = file_counter+1"
      ],
      "metadata": {
        "colab": {
          "base_uri": "https://localhost:8080/",
          "height": 35
        },
        "id": "KecB-NlqCuZp",
        "outputId": "ff7e9131-e50c-4329-a1b7-7a3fbbff32ff"
      },
      "execution_count": 9,
      "outputs": [
        {
          "output_type": "display_data",
          "data": {
            "text/plain": [
              "<Figure size 432x288 with 0 Axes>"
            ]
          },
          "metadata": {}
        }
      ]
    },
    {
      "cell_type": "code",
      "source": [],
      "metadata": {
        "id": "a9wV33BEO37O"
      },
      "execution_count": 9,
      "outputs": []
    }
  ]
}